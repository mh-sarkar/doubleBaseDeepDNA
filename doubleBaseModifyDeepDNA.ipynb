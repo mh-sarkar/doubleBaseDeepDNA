{
  "nbformat": 4,
  "nbformat_minor": 0,
  "metadata": {
    "colab": {
      "name": "doubleBaseModifyDeepDNA.ipynb",
      "provenance": [],
      "collapsed_sections": [],
      "toc_visible": true,
      "include_colab_link": true
    },
    "kernelspec": {
      "name": "python3",
      "display_name": "Python 3"
    },
    "language_info": {
      "name": "python"
    },
    "accelerator": "GPU",
    "gpuClass": "standard"
  },
  "cells": [
    {
      "cell_type": "markdown",
      "metadata": {
        "id": "view-in-github",
        "colab_type": "text"
      },
      "source": [
        "<a href=\"https://colab.research.google.com/github/mh-sarkar/doubleBaseDeepDNA/blob/main/doubleBaseModifyDeepDNA.ipynb\" target=\"_parent\"><img src=\"https://colab.research.google.com/assets/colab-badge.svg\" alt=\"Open In Colab\"/></a>"
      ]
    },
    {
      "cell_type": "markdown",
      "source": [
        "# Connecting Google Drive\n",
        "\n",
        "---\n"
      ],
      "metadata": {
        "id": "o-QGWkXOUWy2"
      }
    },
    {
      "cell_type": "code",
      "execution_count": null,
      "metadata": {
        "id": "cTdtl3Te32vP",
        "colab": {
          "base_uri": "https://localhost:8080/"
        },
        "outputId": "6e070ab0-8c0a-4ddf-c3e1-590c0ad3b4fd"
      },
      "outputs": [
        {
          "output_type": "stream",
          "name": "stdout",
          "text": [
            "Drive already mounted at /content/drive; to attempt to forcibly remount, call drive.mount(\"/content/drive\", force_remount=True).\n"
          ]
        }
      ],
      "source": [
        "from google.colab import drive\n",
        "drive.mount('/content/drive')"
      ]
    },
    {
      "cell_type": "code",
      "source": [
        "gpu_info = !nvidia-smi\n",
        "gpu_info = '\\n'.join(gpu_info)\n",
        "if gpu_info.find('failed') >= 0:\n",
        "  print('Not connected to a GPU')\n",
        "else:\n",
        "  print(gpu_info)"
      ],
      "metadata": {
        "colab": {
          "base_uri": "https://localhost:8080/"
        },
        "id": "ZkQKijUlAh26",
        "outputId": "f241df15-d21b-46a5-d7a3-4cd74ecbcd93"
      },
      "execution_count": null,
      "outputs": [
        {
          "output_type": "stream",
          "name": "stdout",
          "text": [
            "Thu Jul 21 16:58:18 2022       \n",
            "+-----------------------------------------------------------------------------+\n",
            "| NVIDIA-SMI 460.32.03    Driver Version: 460.32.03    CUDA Version: 11.2     |\n",
            "|-------------------------------+----------------------+----------------------+\n",
            "| GPU  Name        Persistence-M| Bus-Id        Disp.A | Volatile Uncorr. ECC |\n",
            "| Fan  Temp  Perf  Pwr:Usage/Cap|         Memory-Usage | GPU-Util  Compute M. |\n",
            "|                               |                      |               MIG M. |\n",
            "|===============================+======================+======================|\n",
            "|   0  Tesla T4            Off  | 00000000:00:04.0 Off |                    0 |\n",
            "| N/A   45C    P8    10W /  70W |      0MiB / 15109MiB |      0%      Default |\n",
            "|                               |                      |                  N/A |\n",
            "+-------------------------------+----------------------+----------------------+\n",
            "                                                                               \n",
            "+-----------------------------------------------------------------------------+\n",
            "| Processes:                                                                  |\n",
            "|  GPU   GI   CI        PID   Type   Process name                  GPU Memory |\n",
            "|        ID   ID                                                   Usage      |\n",
            "|=============================================================================|\n",
            "|  No running processes found                                                 |\n",
            "+-----------------------------------------------------------------------------+\n"
          ]
        }
      ]
    },
    {
      "cell_type": "markdown",
      "metadata": {
        "id": "g9Pec_7gNVsn"
      },
      "source": [
        "# Import Library\n",
        "\n",
        "---\n",
        "\n"
      ]
    },
    {
      "cell_type": "code",
      "execution_count": null,
      "metadata": {
        "id": "oYK2iGdXrpCu",
        "colab": {
          "base_uri": "https://localhost:8080/"
        },
        "outputId": "00bf571c-5ffc-4249-8037-3a85008569fd"
      },
      "outputs": [
        {
          "output_type": "stream",
          "name": "stdout",
          "text": [
            "Looking in indexes: https://pypi.org/simple, https://us-python.pkg.dev/colab-wheels/public/simple/\n",
            "Requirement already satisfied: Bio in /usr/local/lib/python3.7/dist-packages (1.3.9)\n",
            "Requirement already satisfied: biopython>=1.79 in /usr/local/lib/python3.7/dist-packages (from Bio) (1.79)\n",
            "Requirement already satisfied: mygene in /usr/local/lib/python3.7/dist-packages (from Bio) (3.2.2)\n",
            "Requirement already satisfied: tqdm in /usr/local/lib/python3.7/dist-packages (from Bio) (4.64.0)\n",
            "Requirement already satisfied: requests in /usr/local/lib/python3.7/dist-packages (from Bio) (2.23.0)\n",
            "Requirement already satisfied: numpy in /usr/local/lib/python3.7/dist-packages (from biopython>=1.79->Bio) (1.21.6)\n",
            "Requirement already satisfied: biothings-client>=0.2.6 in /usr/local/lib/python3.7/dist-packages (from mygene->Bio) (0.2.6)\n",
            "Requirement already satisfied: certifi>=2017.4.17 in /usr/local/lib/python3.7/dist-packages (from requests->Bio) (2022.6.15)\n",
            "Requirement already satisfied: urllib3!=1.25.0,!=1.25.1,<1.26,>=1.21.1 in /usr/local/lib/python3.7/dist-packages (from requests->Bio) (1.24.3)\n",
            "Requirement already satisfied: chardet<4,>=3.0.2 in /usr/local/lib/python3.7/dist-packages (from requests->Bio) (3.0.4)\n",
            "Requirement already satisfied: idna<3,>=2.5 in /usr/local/lib/python3.7/dist-packages (from requests->Bio) (2.10)\n",
            "Looking in indexes: https://pypi.org/simple, https://us-python.pkg.dev/colab-wheels/public/simple/\n",
            "Requirement already satisfied: fuzzywuzzy in /usr/local/lib/python3.7/dist-packages (0.18.0)\n",
            "ERROR: unknown command \"python-Levenshtein\"\n"
          ]
        }
      ],
      "source": [
        "!pip install Bio\n",
        "!pip install fuzzywuzzy\n",
        "!pip python-Levenshtein"
      ]
    },
    {
      "cell_type": "code",
      "execution_count": null,
      "metadata": {
        "id": "oyUmwLtD4-iE"
      },
      "outputs": [],
      "source": [
        "import random\n",
        "import numpy as np\n",
        "import sys\n",
        "import io\n",
        "import math\n",
        "import tensorflow as tf\n",
        "import keras\n",
        "\n",
        "from __future__ import print_function\n",
        "from itertools import product\n",
        "\n",
        "from Bio import SeqIO\n",
        "from Bio.Seq import Seq\n",
        "# from Bio.Alphabet import generic_dna\n",
        "\n",
        "from keras import backend as K\n",
        "from keras.callbacks import LambdaCallback, Callback\n",
        "from keras.models import Sequential\n",
        "from keras.layers.core import Dense, Dropout, Activation, Flatten\n",
        "from keras.layers import LSTM\n",
        "from keras.layers import Conv1D, MaxPooling1D\n",
        "from keras.utils.data_utils import get_file\n",
        "from keras.models import model_from_json\n",
        "from keras.models import load_model\n",
        "from keras.callbacks import EarlyStopping\n",
        "from keras.callbacks import ModelCheckpoint\n",
        "from sklearn.model_selection import train_test_split\n",
        "\n",
        "from tensorflow.keras.optimizers import RMSprop"
      ]
    },
    {
      "cell_type": "markdown",
      "source": [
        "#Define Constant\n",
        "\n",
        "---\n",
        "\n"
      ],
      "metadata": {
        "id": "2j3W4vADjRuc"
      }
    },
    {
      "cell_type": "code",
      "source": [
        "SEQ_MAX_LEN = 16400\n",
        "CHARS = \"abcdefghijklmnopqrst\"\n",
        "print('total chars:', len(CHARS))\n",
        "print('chars:', CHARS)\n",
        "CHAR_INDICES = dict((c, i) for i, c in enumerate(CHARS))\n",
        "INDICES_CHAR = dict((i, c) for i, c in enumerate(CHARS))\n",
        "MAXLEN = 64\n",
        "STEP = 1\n",
        "BATCH_SIZE = 4096\n",
        "INITIAL_LR = 0.001\n",
        "GLOBAL_DECAY_STEPS = 10000\n",
        "GLOBAL_DECAY_RATE = 0.9\n",
        "EPOCHS = 100\n",
        "INPUT_DIM = len(CHARS)"
      ],
      "metadata": {
        "id": "_2sic94QiKY0",
        "colab": {
          "base_uri": "https://localhost:8080/"
        },
        "outputId": "a3588977-9f12-4837-c873-b1b4ba8cdb0b"
      },
      "execution_count": null,
      "outputs": [
        {
          "output_type": "stream",
          "name": "stdout",
          "text": [
            "total chars: 20\n",
            "chars: abcdefghijklmnopqrst\n"
          ]
        }
      ]
    },
    {
      "cell_type": "markdown",
      "metadata": {
        "id": "h1qkqOcMNMWK"
      },
      "source": [
        "# **Data Split** ▶▶\n",
        "\n",
        "---\n",
        "\n"
      ]
    },
    {
      "cell_type": "markdown",
      "source": [
        "##Read Full Mitocondrial DNA"
      ],
      "metadata": {
        "id": "hqM9GCrVh6u5"
      }
    },
    {
      "cell_type": "code",
      "source": [
        "filename ='FILE_NAME'# downloaded multi-fasta file from MITOMAP database\n",
        "reads = []\n",
        "with open(filename, \"r\") as handle:\n",
        "  for record in SeqIO.parse(handle, \"fasta\"):\n",
        "    if(len(record.seq) > 16400):\n",
        "      # print(record.seq)\n",
        "      reads.append(record)\n",
        "print(len(reads[0].seq))"
      ],
      "metadata": {
        "colab": {
          "base_uri": "https://localhost:8080/"
        },
        "id": "0bon4qx62-9L",
        "outputId": "6afe8f45-e9fb-495a-ebd2-388d9bc1cd1d"
      },
      "execution_count": null,
      "outputs": [
        {
          "output_type": "stream",
          "name": "stdout",
          "text": [
            "16569\n"
          ]
        }
      ]
    },
    {
      "cell_type": "markdown",
      "source": [
        "##Using All Map ▶\n",
        "\n",
        "---\n"
      ],
      "metadata": {
        "id": "-NRisF0DQJR6"
      }
    },
    {
      "cell_type": "markdown",
      "source": [
        "###Create ACGT Map for Consensus"
      ],
      "metadata": {
        "id": "DdE8hMoJjlyh"
      }
    },
    {
      "cell_type": "code",
      "execution_count": null,
      "metadata": {
        "id": "MmHxuRZOteC2"
      },
      "outputs": [],
      "source": [
        "consensus_map = {'A':0, 'C':1, 'G':2, 'T':3}"
      ]
    },
    {
      "cell_type": "markdown",
      "source": [
        "###Create Double base map for crompression"
      ],
      "metadata": {
        "id": "zgVhLOwAP4G9"
      }
    },
    {
      "cell_type": "code",
      "source": [
        "my_map_data = {\"a\": \"AA\", \"b\": \"AT\", \"c\": \"AC\", \"d\": \"AG\", \"e\": \"TT\", \"f\": \"TA\", \"g\": \"TC\", \"h\": \"TG\", \"i\": \"CC\", \"j\": \"CA\", \"k\": \"CT\", \"l\": \"CG\", \"m\": \"GG\", \"n\": \"GA\", \"o\": \"GT\", \"p\": \"GC\", \"q\": \"A\", \"r\": \"C\", \"s\": \"G\", \"t\": \"T\"}"
      ],
      "metadata": {
        "id": "sfYk5GIPEdn4"
      },
      "execution_count": null,
      "outputs": []
    },
    {
      "cell_type": "markdown",
      "source": [
        "###Get Key from Map Function"
      ],
      "metadata": {
        "id": "qOmMkvOPPqh8"
      }
    },
    {
      "cell_type": "code",
      "execution_count": null,
      "metadata": {
        "id": "O6EYNEBRtSWo"
      },
      "outputs": [],
      "source": [
        "def get_key(val, map_name):\n",
        "    for key, value in map_name.items():\n",
        "         if val == value:\n",
        "             return key\n",
        " \n",
        "    return \"\""
      ]
    },
    {
      "cell_type": "markdown",
      "source": [
        "###Get Two Iteration for Loop"
      ],
      "metadata": {
        "id": "i0hsSFWSQyg5"
      }
    },
    {
      "cell_type": "code",
      "source": [
        "def grouped(iterable, n):\n",
        "    # \"s -> (s0,s1,s2,...sn-1), (sn,sn+1,sn+2,...s2n-1), (s2n,s2n+1,s2n+2,...s3n-1), ...\"\n",
        "    return zip(*[iter(iterable)]*n)"
      ],
      "metadata": {
        "id": "p2Iv7tZZG5dr"
      },
      "execution_count": null,
      "outputs": []
    },
    {
      "cell_type": "markdown",
      "source": [
        "##Consensus Sequence"
      ],
      "metadata": {
        "id": "nQh-czx7j9mn"
      }
    },
    {
      "cell_type": "code",
      "execution_count": null,
      "metadata": {
        "id": "9SMffkC7rRXC"
      },
      "outputs": [],
      "source": [
        "twod_list = []\n",
        "a=[]\n",
        "t=[]\n",
        "g=[]\n",
        "c=[]\n",
        "for j in range(len(max(reads, key=len))):\n",
        "    a.append([i[j] for i in reads if j< len(i)].count('A'))\n",
        "    t.append([i[j] for i in reads if j< len(i)].count('T'))\n",
        "    g.append([i[j] for i in reads if j< len(i)].count('G'))\n",
        "    c.append([i[j] for i in reads if j< len(i)].count('C'))\n",
        "\n",
        "twod_list.append(a)\n",
        "twod_list.append(c)\n",
        "twod_list.append(g)\n",
        "twod_list.append(t)\n",
        "A = np.asarray(twod_list)\n",
        "\n",
        "max = A.max(axis=0, keepdims=True)\n",
        "max_index = A.argmax(axis=0)"
      ]
    },
    {
      "cell_type": "markdown",
      "source": [
        "## Main Sequence Data Split"
      ],
      "metadata": {
        "id": "vIBDrYrzkhvp"
      }
    },
    {
      "cell_type": "code",
      "source": [
        "items = range(len(reads))\n",
        "# random.shuffle(items)\n",
        "\n",
        "train, test = train_test_split(items, test_size=0.10, random_state=42)\n",
        "train, valid = train_test_split(train,test_size=0.18, random_state=42) # 0.25 x 0.8 = 0.2\n",
        "\n",
        "# train = items[0:1407]\n",
        "# valid = items[1407:1809]\n",
        "# test = items[1809:2011]\n",
        "train_record = []\n",
        "valid_record = []\n",
        "test_record = []"
      ],
      "metadata": {
        "id": "1OCIPgmx3OTa"
      },
      "execution_count": null,
      "outputs": []
    },
    {
      "cell_type": "markdown",
      "source": [
        "##Apply Consensus and Create Double Base ▶\n",
        "\n",
        "---\n",
        "\n"
      ],
      "metadata": {
        "id": "39C7EQVrk9Mk"
      }
    },
    {
      "cell_type": "markdown",
      "source": [
        "###Check and Apply Consensus Function"
      ],
      "metadata": {
        "id": "Cceyui1alcdr"
      }
    },
    {
      "cell_type": "code",
      "execution_count": null,
      "metadata": {
        "id": "F2kwZ-AGMsp6"
      },
      "outputs": [],
      "source": [
        "def checkAndApplyConsensus(read):\n",
        "\trecord = read\n",
        "\tmy_dna = str(read.seq.upper())\n",
        "\tfor i, base in enumerate(my_dna):\n",
        "\t\tif base not in 'ACGT':\n",
        "\t\t\t# print(base, get_key(max_index[i]))\n",
        "\t\t\tmy_dna = my_dna.replace(base,get_key(max_index[i], consensus_map))\n",
        "\trecord.seq= Seq(my_dna)\n",
        "\tfor i, base in enumerate(record.seq):\n",
        "\t\tif base not in 'ACGT':\n",
        "\t\t\tprint(record.seq[i])\n",
        "\tprint(len(record.seq))\n",
        "\treturn record"
      ]
    },
    {
      "cell_type": "markdown",
      "source": [
        "###Create Double Base Compress Data Function"
      ],
      "metadata": {
        "id": "GfTm2Wp1RW5v"
      }
    },
    {
      "cell_type": "code",
      "source": [
        "def createDoubleBaseCompressData(read):\n",
        "  record = read\n",
        "  my_dna = str(read.seq.upper())\n",
        "  new_dna = ''\n",
        "  i=0\n",
        "  for x, y in grouped(record.seq, 2):\n",
        "    i=i+1\n",
        "    new_dna=new_dna +get_key(x+y,my_map_data)\n",
        "    # record.seq= Seq(new_dna)\n",
        "  if(len(record.seq)%2==1):\n",
        "    # print(record.seq[len(record.seq)-1])\n",
        "    new_dna=new_dna +get_key(record.seq[len(record.seq)-1],my_map_data)\n",
        "\n",
        "  record.seq= Seq(new_dna)\n",
        "  \n",
        "  # print(i)\n",
        "  return record"
      ],
      "metadata": {
        "id": "TDmryDCV3PQv"
      },
      "execution_count": null,
      "outputs": []
    },
    {
      "cell_type": "markdown",
      "source": [
        "###Train Sequence Create"
      ],
      "metadata": {
        "id": "od6bN-QvmkSd"
      }
    },
    {
      "cell_type": "code",
      "source": [
        "# print(train)\n",
        "# index = 89\n",
        "for i in train:\n",
        "  read = createDoubleBaseCompressData(checkAndApplyConsensus(reads[i]))\n",
        "  # print(read.seq)\n",
        "  train_record.append(read)\n",
        " \n",
        "# save the data\n",
        "SeqIO.write(train_record, \"FILE_NAME\", \"fasta\")"
      ],
      "metadata": {
        "id": "-TDlUa1h3VAs"
      },
      "execution_count": null,
      "outputs": []
    },
    {
      "cell_type": "markdown",
      "source": [
        "###Valid Sequence Create"
      ],
      "metadata": {
        "id": "xgNZ8qN2m1UK"
      }
    },
    {
      "cell_type": "code",
      "source": [
        "for i in valid:\n",
        "\tread = createDoubleBaseCompressData(checkAndApplyConsensus(reads[i]))\n",
        "\tvalid_record.append(read)\n",
        " \n",
        "#save the data\n",
        "SeqIO.write(valid_record, \"FILE_NAME\", \"fasta\")"
      ],
      "metadata": {
        "id": "3ugoV1XA3e3j"
      },
      "execution_count": null,
      "outputs": []
    },
    {
      "cell_type": "markdown",
      "source": [
        "###Test Sequence Create"
      ],
      "metadata": {
        "id": "LOLBEvcVm1n_"
      }
    },
    {
      "cell_type": "code",
      "source": [
        "for i in test:\n",
        "\tread = createDoubleBaseCompressData(checkAndApplyConsensus(reads[i]))\n",
        "\ttest_record.append(read)\n",
        " \n",
        "#save the data\n",
        "SeqIO.write(test_record, \"FILE_NAME\", \"fasta\")"
      ],
      "metadata": {
        "id": "om8h0dpx3hmT"
      },
      "execution_count": null,
      "outputs": []
    },
    {
      "cell_type": "markdown",
      "metadata": {
        "id": "fn95jdy1NQG7"
      },
      "source": [
        "# **Train Dataset** ▶▶\n",
        "\n",
        "---\n",
        "\n"
      ]
    },
    {
      "cell_type": "markdown",
      "source": [
        "##Path Define"
      ],
      "metadata": {
        "id": "T0sXqhcJwK-R"
      }
    },
    {
      "cell_type": "code",
      "source": [
        "train_path = 'FILE_NAME'\n",
        "valid_path = 'FILE_NAME'\n",
        "test_path = 'FILE_NAME'"
      ],
      "metadata": {
        "id": "OBgtKWyy0eoQ"
      },
      "execution_count": null,
      "outputs": []
    },
    {
      "cell_type": "markdown",
      "source": [
        "##Data Vectorization ▶\n",
        "\n",
        "---\n",
        "\n"
      ],
      "metadata": {
        "id": "gtSjsx4wwywT"
      }
    },
    {
      "cell_type": "markdown",
      "source": [
        "###Read Data From Path Function"
      ],
      "metadata": {
        "id": "dIK6xbVhw62b"
      }
    },
    {
      "cell_type": "code",
      "execution_count": null,
      "metadata": {
        "id": "uSd10BHTOZ7_"
      },
      "outputs": [],
      "source": [
        "def read_fasta(data_path):\n",
        "    records = list(SeqIO.parse(data_path, \"fasta\"))\n",
        "    text = \"\"\n",
        "    for record in records:\n",
        "        text += str(record.seq)\n",
        "    return text"
      ]
    },
    {
      "cell_type": "markdown",
      "source": [
        "###Read Data for Vectorization from Path Function"
      ],
      "metadata": {
        "id": "xfsEzNhhxDOQ"
      }
    },
    {
      "cell_type": "code",
      "execution_count": null,
      "metadata": {
        "id": "u07h8izyxDOS"
      },
      "outputs": [],
      "source": [
        "def read_fasta_vectorization(data_path):\n",
        "    records = list(SeqIO.parse(data_path, \"fasta\"))\n",
        "    text = \"\"\n",
        "    for record in records:\n",
        "        text += str(record.seq)\n",
        "    text = text + text[0:BATCH_SIZE-len(text)%BATCH_SIZE]\n",
        "    return text"
      ]
    },
    {
      "cell_type": "markdown",
      "source": [
        "###Small Data Sequence Split from Full Sequence Data Function "
      ],
      "metadata": {
        "id": "mZxZHsXgzKEq"
      }
    },
    {
      "cell_type": "code",
      "execution_count": null,
      "metadata": {
        "id": "qRPW2PkwOcyH"
      },
      "outputs": [],
      "source": [
        "def read_data(data_path):\n",
        "    text = read_fasta_vectorization(data_path)\n",
        "    for i in range(0, len(text) - MAXLEN, STEP):\n",
        "        sentence = text[i: i + MAXLEN]\n",
        "        next_char = text[i + MAXLEN]\n",
        "        yield sentence, next_char"
      ]
    },
    {
      "cell_type": "markdown",
      "source": [
        "###Data Vectorization Function"
      ],
      "metadata": {
        "id": "3O0CCMaj1AEs"
      }
    },
    {
      "cell_type": "code",
      "execution_count": null,
      "metadata": {
        "id": "k60_lWt5OeiS"
      },
      "outputs": [],
      "source": [
        "def vectorization(sentences, next_chars):\n",
        "    x = np.zeros((BATCH_SIZE, MAXLEN, len(CHARS)), dtype=np.float32)\n",
        "    y = np.zeros((BATCH_SIZE, len(CHARS)), dtype=np.float32)\n",
        "    for i, sentence in enumerate(sentences):\n",
        "        for t, char in enumerate(sentence):\n",
        "            x[i, t, CHAR_INDICES[char]] = 1\n",
        "        y[i, CHAR_INDICES[next_chars[i]]] = 1\n",
        "    return x, y"
      ]
    },
    {
      "cell_type": "markdown",
      "source": [
        "###Get Batch Function"
      ],
      "metadata": {
        "id": "MeHN2xLV1sJu"
      }
    },
    {
      "cell_type": "code",
      "execution_count": null,
      "metadata": {
        "id": "GEDaIpn9Ogcl"
      },
      "outputs": [],
      "source": [
        "def get_batch(stream):\n",
        "    sentences = []\n",
        "    next_chars = []\n",
        "    for sentence, next_char in stream:\n",
        "        sentences.append(sentence)\n",
        "        next_chars.append(next_char)\n",
        "        if len(sentences) == BATCH_SIZE:\n",
        "            data_tuple = vectorization(sentences,next_chars)\n",
        "            yield data_tuple\n",
        "            sentences = []\n",
        "            next_chars = []\n",
        "    # Added for padding characters\n",
        "    if len(sentences) <= BATCH_SIZE:\n",
        "        data_tuple = vectorization(sentences,next_chars)\n",
        "        yield data_tuple\n",
        "        sentences = []\n",
        "        next_chars = []"
      ]
    },
    {
      "cell_type": "markdown",
      "source": [
        "###Get Vectorized Data Function"
      ],
      "metadata": {
        "id": "OMTTOufV4Xdj"
      }
    },
    {
      "cell_type": "code",
      "execution_count": null,
      "metadata": {
        "id": "uVEI16c0s7y-"
      },
      "outputs": [],
      "source": [
        "def get_vectorized_data(data_path):\n",
        "    data_X = []\n",
        "    data_y = []\n",
        "    for i, batch in enumerate(get_batch(read_data(data_path))):\n",
        "        data_X.append(batch[0])\n",
        "        data_y.append(batch[1])\n",
        "    data_X = np.array(data_X)\n",
        "    data_X = data_X.reshape(-1,64,20)\n",
        "    data_y = np.array(data_y)\n",
        "    data_y = data_y.reshape(-1,20)\n",
        "    return data_X, data_y"
      ]
    },
    {
      "cell_type": "markdown",
      "source": [
        "###Assign Vectorized Data"
      ],
      "metadata": {
        "id": "KMyt_PKa5n4w"
      }
    },
    {
      "cell_type": "code",
      "execution_count": null,
      "metadata": {
        "id": "zswg7xZxuRWo"
      },
      "outputs": [],
      "source": [
        "X_train, y_train = get_vectorized_data(train_path)\n",
        "X_test, y_test = get_vectorized_data(test_path)\n",
        "X_valid, y_valid = get_vectorized_data(valid_path)"
      ]
    },
    {
      "cell_type": "markdown",
      "source": [
        "##Model   ▶\n",
        "\n",
        "---\n",
        "\n"
      ],
      "metadata": {
        "id": "IqtNpXcr8S1_"
      }
    },
    {
      "cell_type": "markdown",
      "source": [
        "###CNN LSTM Model Function"
      ],
      "metadata": {
        "id": "mu5pUR2_6O7c"
      }
    },
    {
      "cell_type": "code",
      "execution_count": null,
      "metadata": {
        "id": "o5zpHvUbOpZm"
      },
      "outputs": [],
      "source": [
        "def model_CNN_LSTM():\n",
        "  # build the model: a single LSTM\n",
        "  print('Build model...')\n",
        "  model = Sequential()\n",
        "  model.add(Conv1D(filters=512,\n",
        "                    kernel_size=8,\n",
        "                    trainable=True,\n",
        "                    padding='valid',\n",
        "                    activation='relu',\n",
        "                    strides=1,\n",
        "                    input_shape=X_train[0].shape))\n",
        "  model.add(MaxPooling1D(pool_size=5))\n",
        "  model.add(Dropout(0.2))\n",
        "  model.add(Conv1D(filters=256,\n",
        "                    kernel_size=8,\n",
        "                    trainable=True,\n",
        "                    padding='same',\n",
        "                    activation='relu'))\n",
        "  model.add(MaxPooling1D(pool_size=3))\n",
        "  model.add(Dropout(0.2))\n",
        "  model.add(LSTM(256,return_sequences=True))\n",
        "  model.add(Dropout(0.2))\n",
        "  model.add(LSTM(128,return_sequences=True))\n",
        "  model.add(Dropout(0.2))\n",
        "  model.add(LSTM(64,return_sequences=True))\n",
        "  model.add(Dropout(0.2))\n",
        "  model.add(Flatten())\n",
        "  model.add(Dense(256))\n",
        "  model.add(Activation('relu'))\n",
        "  model.add(Dense(INPUT_DIM))\n",
        "  model.add(Activation('softmax'))\n",
        "  # optimizer = RMSprop(learning_rate=0.001)\n",
        "\n",
        "#### EXPONENTIAL DECAY ####  \n",
        "  lr_schedule = tf.keras.optimizers.schedules.ExponentialDecay(\n",
        "    initial_learning_rate=INITIAL_LR,\n",
        "    decay_steps=GLOBAL_DECAY_STEPS,\n",
        "    decay_rate=GLOBAL_DECAY_RATE,\n",
        "    staircase=True)\n",
        "\n",
        "#### COSINE DECAY ####  \n",
        "  # decay_steps = GLOBAL_DECAY_STEPS\n",
        "  # initial_learning_rate = INITIAL_LR\n",
        "  # lr_schedule = tf.keras.optimizers.schedules.CosineDecay(\n",
        "  #       initial_learning_rate, decay_steps)\n",
        "\n",
        "# #### Polynomial DECAY) ####  \n",
        "  # starter_learning_rate = INITIAL_LR\n",
        "  # end_learning_rate = 1e-7\n",
        "  # decay_steps = GLOBAL_DECAY_STEPS\n",
        "  # lr_schedule = tf.keras.optimizers.schedules.PolynomialDecay(\n",
        "  #     starter_learning_rate,\n",
        "  #     decay_steps,\n",
        "  #     end_learning_rate,\n",
        "  #     power=0.5)\n",
        "\n",
        "# #### INVERSE TIME DECAY ####  \n",
        "  # initial_learning_rate =INITIAL_LR\n",
        "  # decay_steps = GLOBAL_DECAY_STEPS\n",
        "  # decay_rate = GLOBAL_DECAY_RATE\n",
        "  # lr_schedule = tf.keras.optimizers.schedules.InverseTimeDecay(\n",
        "  #   initial_learning_rate, decay_steps, decay_rate)\n",
        "\n",
        "# #### COSINE DECAY RESTARTS #### \n",
        "  # initial_learning_rate = INITIAL_LR\n",
        "  # first_decay_steps = GLOBAL_DECAY_STEPS\n",
        "  # lr_schedule = tf.keras.optimizers.schedules.CosineDecayRestarts(\n",
        "  #       initial_learning_rate,\n",
        "  #       first_decay_steps)\n",
        "  \n",
        "  optimizer = RMSprop(learning_rate=lr_schedule)\n",
        "  \n",
        "  #####\n",
        "\n",
        "# #### Polynomial DECAY) ####  \n",
        "# starter_learning_rate = 0.1\n",
        "# end_learning_rate = 1e-7\n",
        "# decay_steps = 100\n",
        "# lr_schedule = tf.keras.optimizers.schedules.PolynomialDecay(\n",
        "#     starter_learning_rate,\n",
        "#     decay_steps,\n",
        "#     end_learning_rate,\n",
        "#     power=0.5)\n",
        "\n",
        "  # initial_learning_rate = 0.001\n",
        "  # decay_steps = 1.0\n",
        "  # decay_rate = 0.8\n",
        "  # learning_rate_fn = tf.keras.optimizers.schedules.InverseTimeDecay(\n",
        "  #   initial_learning_rate, decay_steps, decay_rate)\n",
        "\n",
        "  # model.compile(optimizer=tf.keras.optimizers.SGD(\n",
        "  #                 learning_rate=learning_rate_fn),\n",
        "  #             loss='categorical_crossentropy',\n",
        "  #             metrics=['accuracy'])\n",
        "  model.compile(loss='categorical_crossentropy', optimizer=optimizer)\n",
        "  return model"
      ]
    },
    {
      "cell_type": "markdown",
      "source": [
        "###Model Define"
      ],
      "metadata": {
        "id": "053tsu3S8Igj"
      }
    },
    {
      "cell_type": "code",
      "execution_count": null,
      "metadata": {
        "colab": {
          "base_uri": "https://localhost:8080/"
        },
        "id": "LekQvJi7OySQ",
        "outputId": "814f7900-655f-4c04-9404-e15a019d994d"
      },
      "outputs": [
        {
          "output_type": "stream",
          "name": "stdout",
          "text": [
            "Build model...\n"
          ]
        }
      ],
      "source": [
        "model = model_CNN_LSTM()"
      ]
    },
    {
      "cell_type": "markdown",
      "source": [
        "###Model Summary"
      ],
      "metadata": {
        "id": "ODCF-Mol8aWG"
      }
    },
    {
      "cell_type": "code",
      "source": [
        "model.summary()"
      ],
      "metadata": {
        "colab": {
          "base_uri": "https://localhost:8080/"
        },
        "id": "x7JywqkmFGMx",
        "outputId": "fd3f335f-21b1-47d2-8741-735b71b3f928"
      },
      "execution_count": null,
      "outputs": [
        {
          "output_type": "stream",
          "name": "stdout",
          "text": [
            "Model: \"sequential\"\n",
            "_________________________________________________________________\n",
            " Layer (type)                Output Shape              Param #   \n",
            "=================================================================\n",
            " conv1d (Conv1D)             (None, 57, 512)           82432     \n",
            "                                                                 \n",
            " max_pooling1d (MaxPooling1D  (None, 11, 512)          0         \n",
            " )                                                               \n",
            "                                                                 \n",
            " dropout (Dropout)           (None, 11, 512)           0         \n",
            "                                                                 \n",
            " conv1d_1 (Conv1D)           (None, 11, 256)           1048832   \n",
            "                                                                 \n",
            " max_pooling1d_1 (MaxPooling  (None, 3, 256)           0         \n",
            " 1D)                                                             \n",
            "                                                                 \n",
            " dropout_1 (Dropout)         (None, 3, 256)            0         \n",
            "                                                                 \n",
            " lstm (LSTM)                 (None, 3, 256)            525312    \n",
            "                                                                 \n",
            " dropout_2 (Dropout)         (None, 3, 256)            0         \n",
            "                                                                 \n",
            " lstm_1 (LSTM)               (None, 3, 128)            197120    \n",
            "                                                                 \n",
            " dropout_3 (Dropout)         (None, 3, 128)            0         \n",
            "                                                                 \n",
            " lstm_2 (LSTM)               (None, 3, 64)             49408     \n",
            "                                                                 \n",
            " dropout_4 (Dropout)         (None, 3, 64)             0         \n",
            "                                                                 \n",
            " flatten (Flatten)           (None, 192)               0         \n",
            "                                                                 \n",
            " dense (Dense)               (None, 256)               49408     \n",
            "                                                                 \n",
            " activation (Activation)     (None, 256)               0         \n",
            "                                                                 \n",
            " dense_1 (Dense)             (None, 20)                5140      \n",
            "                                                                 \n",
            " activation_1 (Activation)   (None, 20)                0         \n",
            "                                                                 \n",
            "=================================================================\n",
            "Total params: 1,957,652\n",
            "Trainable params: 1,957,652\n",
            "Non-trainable params: 0\n",
            "_________________________________________________________________\n"
          ]
        }
      ]
    },
    {
      "cell_type": "markdown",
      "source": [
        "###Load Previous Model if exists"
      ],
      "metadata": {
        "id": "cHwwZylg9AWQ"
      }
    },
    {
      "cell_type": "code",
      "source": [
        "model = load_model('MODEL_FILE_NAME')"
      ],
      "metadata": {
        "id": "zCwIcD0IkVnS"
      },
      "execution_count": null,
      "outputs": []
    },
    {
      "cell_type": "markdown",
      "source": [
        "##Model Train ▶\n",
        "\n",
        "---\n"
      ],
      "metadata": {
        "id": "LZgOYSLG94lJ"
      }
    },
    {
      "cell_type": "markdown",
      "source": [
        "### Model Check Point Callback Function"
      ],
      "metadata": {
        "id": "dpw7z9Jw99yy"
      }
    },
    {
      "cell_type": "code",
      "source": [
        "checkpoint = ModelCheckpoint('MODEL_FILE_NAME', monitor='loss', verbose=1, save_best_only=True, mode='min', save_freq=148*10)"
      ],
      "metadata": {
        "id": "KHnWLum_gggw"
      },
      "execution_count": null,
      "outputs": []
    },
    {
      "cell_type": "markdown",
      "source": [
        "###Get Model Losses History from Fit Function"
      ],
      "metadata": {
        "id": "OIUAgEDUATSm"
      }
    },
    {
      "cell_type": "code",
      "execution_count": null,
      "metadata": {
        "id": "oiQ4CrUGO33y"
      },
      "outputs": [],
      "source": [
        "history = model.fit(X_train, y_train, batch_size=BATCH_SIZE,epochs=EPOCHS ,callbacks=[checkpoint], validation_data=(X_valid, y_valid), shuffle=True)"
      ]
    },
    {
      "cell_type": "markdown",
      "source": [
        "###History Print"
      ],
      "metadata": {
        "id": "mIZV0_OULRfl"
      }
    },
    {
      "cell_type": "code",
      "execution_count": null,
      "metadata": {
        "id": "uRNay9kWSHUV",
        "colab": {
          "base_uri": "https://localhost:8080/"
        },
        "outputId": "fac357e7-932e-41d2-dbb3-ae64c0915fc0"
      },
      "outputs": [
        {
          "output_type": "execute_result",
          "data": {
            "text/plain": [
              "{'loss': [2.677762269973755,\n",
              "  2.543966770172119,\n",
              "  2.32647705078125,\n",
              "  2.1220154762268066,\n",
              "  1.9336398839950562,\n",
              "  1.7612717151641846,\n",
              "  1.5920233726501465,\n",
              "  1.415885329246521,\n",
              "  1.2389593124389648,\n",
              "  1.068334937095642,\n",
              "  0.905121386051178,\n",
              "  0.7499414086341858,\n",
              "  0.6247144937515259,\n",
              "  0.5271273255348206,\n",
              "  0.45527005195617676,\n",
              "  0.40199968218803406,\n",
              "  0.35602495074272156,\n",
              "  0.315719872713089,\n",
              "  0.2913563847541809,\n",
              "  0.26714977622032166,\n",
              "  0.24974578619003296,\n",
              "  0.2314983606338501,\n",
              "  0.21755819022655487,\n",
              "  0.20501814782619476,\n",
              "  0.19319599866867065,\n",
              "  0.18295292556285858,\n",
              "  0.17495007812976837,\n",
              "  0.16746388375759125,\n",
              "  0.16093674302101135,\n",
              "  0.15409179031848907,\n",
              "  0.14784935116767883,\n",
              "  0.14194585382938385,\n",
              "  0.1366489827632904,\n",
              "  0.13278532028198242,\n",
              "  0.12840023636817932,\n",
              "  0.12446112185716629,\n",
              "  0.1212245300412178,\n",
              "  0.11792900413274765,\n",
              "  0.11396828293800354,\n",
              "  0.11140555143356323,\n",
              "  0.1090165227651596,\n",
              "  0.10515719652175903,\n",
              "  0.10401622951030731,\n",
              "  0.1016465350985527,\n",
              "  0.10020221024751663,\n",
              "  0.0975603312253952,\n",
              "  0.09472902119159698,\n",
              "  0.09317921102046967,\n",
              "  0.09120240807533264,\n",
              "  0.09019898623228073,\n",
              "  0.08882196992635727,\n",
              "  0.08548517525196075,\n",
              "  0.08540614694356918,\n",
              "  0.0839306116104126,\n",
              "  0.08324179798364639,\n",
              "  0.08112557977437973,\n",
              "  0.07911553978919983,\n",
              "  0.07853157073259354,\n",
              "  0.07808488607406616,\n",
              "  0.075709268450737,\n",
              "  0.0742110162973404,\n",
              "  0.07426469027996063,\n",
              "  0.0730351060628891,\n",
              "  0.07121601700782776,\n",
              "  0.07018202543258667,\n",
              "  0.06992855668067932,\n",
              "  0.06854867190122604,\n",
              "  0.06646407395601273,\n",
              "  0.0635506734251976,\n",
              "  0.0629521831870079,\n",
              "  0.06228715181350708,\n",
              "  0.0612914115190506,\n",
              "  0.05998338758945465,\n",
              "  0.05997404456138611,\n",
              "  0.05869618058204651,\n",
              "  0.05830596014857292,\n",
              "  0.05688959360122681,\n",
              "  0.05726921930909157,\n",
              "  0.0562361441552639,\n",
              "  0.05574963614344597,\n",
              "  0.05535315349698067,\n",
              "  0.054712340235710144,\n",
              "  0.054039858281612396,\n",
              "  0.05319295451045036,\n",
              "  0.05371361970901489,\n",
              "  0.051908086985349655,\n",
              "  0.05160552263259888,\n",
              "  0.05087612569332123,\n",
              "  0.05160926654934883,\n",
              "  0.050135694444179535,\n",
              "  0.05002956837415695,\n",
              "  0.04977487772703171,\n",
              "  0.049456413835287094,\n",
              "  0.048367347568273544,\n",
              "  0.04881622642278671,\n",
              "  0.04785563051700592,\n",
              "  0.04764898866415024,\n",
              "  0.047215498983860016,\n",
              "  0.04704611748456955,\n",
              "  0.04706406593322754],\n",
              " 'val_loss': [2.61887264251709,\n",
              "  2.377760887145996,\n",
              "  2.1175990104675293,\n",
              "  1.9159374237060547,\n",
              "  1.5928572416305542,\n",
              "  1.4567192792892456,\n",
              "  1.1495121717453003,\n",
              "  0.9494130611419678,\n",
              "  0.8576204776763916,\n",
              "  0.5254402160644531,\n",
              "  0.4735335111618042,\n",
              "  0.2730048894882202,\n",
              "  0.20669978857040405,\n",
              "  0.10485772043466568,\n",
              "  0.0941632091999054,\n",
              "  0.0682152807712555,\n",
              "  0.07057114690542221,\n",
              "  0.059338025748729706,\n",
              "  0.05147335305809975,\n",
              "  0.048724476248025894,\n",
              "  0.057101186364889145,\n",
              "  0.04259992763400078,\n",
              "  0.04781440645456314,\n",
              "  0.04162497818470001,\n",
              "  0.03797037526965141,\n",
              "  0.03842565417289734,\n",
              "  0.0374501496553421,\n",
              "  0.03634185343980789,\n",
              "  0.0360184945166111,\n",
              "  0.034137848764657974,\n",
              "  0.03306065872311592,\n",
              "  0.033952780067920685,\n",
              "  0.03351585194468498,\n",
              "  0.03258958086371422,\n",
              "  0.034866876900196075,\n",
              "  0.032708827406167984,\n",
              "  0.03370136022567749,\n",
              "  0.0318208709359169,\n",
              "  0.03192348778247833,\n",
              "  0.03198101371526718,\n",
              "  0.03111768513917923,\n",
              "  0.03140775114297867,\n",
              "  0.031643304973840714,\n",
              "  0.030896680429577827,\n",
              "  0.03136060759425163,\n",
              "  0.029646404087543488,\n",
              "  0.031176608055830002,\n",
              "  0.031026046723127365,\n",
              "  0.029570866376161575,\n",
              "  0.029180198907852173,\n",
              "  0.02968376688659191,\n",
              "  0.029562579467892647,\n",
              "  0.029471104964613914,\n",
              "  0.028684427961707115,\n",
              "  0.02846243977546692,\n",
              "  0.029191425070166588,\n",
              "  0.02877051755785942,\n",
              "  0.027970941737294197,\n",
              "  0.028912996873259544,\n",
              "  0.027961384505033493,\n",
              "  0.028089532628655434,\n",
              "  0.027389109134674072,\n",
              "  0.027478748932480812,\n",
              "  0.027595998719334602,\n",
              "  0.027782024815678596,\n",
              "  0.02719719707965851,\n",
              "  0.026825902983546257,\n",
              "  0.027791988104581833,\n",
              "  0.02727733738720417,\n",
              "  0.02665894478559494,\n",
              "  0.026583559811115265,\n",
              "  0.026323573663830757,\n",
              "  0.0273297019302845,\n",
              "  0.02638011798262596,\n",
              "  0.026167375966906548,\n",
              "  0.02626509964466095,\n",
              "  0.026148362085223198,\n",
              "  0.026640454307198524,\n",
              "  0.02645525336265564,\n",
              "  0.026034889742732048,\n",
              "  0.025764405727386475,\n",
              "  0.02610546164214611,\n",
              "  0.026036858558654785,\n",
              "  0.025823699310421944,\n",
              "  0.025504548102617264,\n",
              "  0.025874804705381393,\n",
              "  0.026041168719530106,\n",
              "  0.025757519528269768,\n",
              "  0.025513241067528725,\n",
              "  0.026043293997645378,\n",
              "  0.02530558966100216,\n",
              "  0.025163184851408005,\n",
              "  0.025539956986904144,\n",
              "  0.025328606367111206,\n",
              "  0.025405729189515114,\n",
              "  0.025376586243510246,\n",
              "  0.025623055174946785,\n",
              "  0.025250930339097977,\n",
              "  0.025454390794038773,\n",
              "  0.02549532987177372]}"
            ]
          },
          "metadata": {},
          "execution_count": 32
        }
      ],
      "source": [
        "history.history"
      ]
    },
    {
      "cell_type": "markdown",
      "source": [
        "###View History Plot "
      ],
      "metadata": {
        "id": "_3pteixVB-OX"
      }
    },
    {
      "cell_type": "code",
      "source": [
        "import matplotlib.pyplot as plt\n",
        "\n",
        "loss_train = history.history['loss']\n",
        "loss_val = history.history['val_loss']\n",
        "epochs = range(1, EPOCHS+1)\n",
        "plt.plot(epochs, loss_train, 'g', label='Training loss')\n",
        "plt.plot(epochs, loss_val, 'b', label='validation loss')\n",
        "plt.title('Training and Validation loss')\n",
        "plt.xlabel('Epochs')\n",
        "plt.ylabel('Loss')\n",
        "plt.legend()\n",
        "plt.show()"
      ],
      "metadata": {
        "id": "6kmoi9dfGQiJ",
        "colab": {
          "base_uri": "https://localhost:8080/",
          "height": 295
        },
        "outputId": "b60b1138-16fd-42cf-b0ff-0136625ca25f"
      },
      "execution_count": null,
      "outputs": [
        {
          "output_type": "display_data",
          "data": {
            "text/plain": [
              "<Figure size 432x288 with 1 Axes>"
            ],
            "image/png": "[encoded data removed]"
          },
          "metadata": {
            "needs_background": "light"
          }
        }
      ]
    },
    {
      "cell_type": "markdown",
      "source": [
        "#**Test Dataset Result** ✅\n",
        "\n",
        "---\n",
        "\n"
      ],
      "metadata": {
        "id": "i3ojE-mZCdp7"
      }
    },
    {
      "cell_type": "code",
      "execution_count": null,
      "metadata": {
        "id": "5TAbN0xFAyrW",
        "colab": {
          "base_uri": "https://localhost:8080/"
        },
        "outputId": "b2584735-384d-494a-ecb4-357b293be176"
      },
      "outputs": [
        {
          "output_type": "stream",
          "name": "stdout",
          "text": [
            "21/21 [==============================] - 13s 68ms/step - loss: 0.0188\n",
            "test loss, test acc: 0.018811149522662163\n"
          ]
        }
      ],
      "source": [
        "results = model.evaluate(X_test, y_test, batch_size=BATCH_SIZE)\n",
        "print(\"test loss, test acc:\", results)"
      ]
    }
  ]
}